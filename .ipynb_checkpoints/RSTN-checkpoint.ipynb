{
 "cells": [
  {
   "cell_type": "code",
   "execution_count": 16,
   "metadata": {},
   "outputs": [
    {
     "name": "stdout",
     "output_type": "stream",
     "text": [
      "Enter the number of Processes : 3\n"
     ]
    },
    {
     "ename": "TypeError",
     "evalue": "must be str, not int",
     "output_type": "error",
     "traceback": [
      "\u001b[0;31m---------------------------------------------------------------------------\u001b[0m",
      "\u001b[0;31mTypeError\u001b[0m                                 Traceback (most recent call last)",
      "\u001b[0;32m<ipython-input-16-5d4604905b52>\u001b[0m in \u001b[0;36m<module>\u001b[0;34m\u001b[0m\n\u001b[1;32m     14\u001b[0m \u001b[0;34m\u001b[0m\u001b[0m\n\u001b[1;32m     15\u001b[0m \u001b[0;32mfor\u001b[0m \u001b[0mi\u001b[0m \u001b[0;32min\u001b[0m \u001b[0mrange\u001b[0m\u001b[0;34m(\u001b[0m\u001b[0mn\u001b[0m\u001b[0;34m)\u001b[0m\u001b[0;34m:\u001b[0m\u001b[0;34m\u001b[0m\u001b[0;34m\u001b[0m\u001b[0m\n\u001b[0;32m---> 16\u001b[0;31m     \u001b[0ma\u001b[0m\u001b[0;34m[\u001b[0m\u001b[0mi\u001b[0m\u001b[0;34m]\u001b[0m \u001b[0;34m=\u001b[0m \u001b[0mint\u001b[0m\u001b[0;34m(\u001b[0m\u001b[0minput\u001b[0m\u001b[0;34m(\u001b[0m\u001b[0;34m\"\\nEnter arrival time of process \"\u001b[0m\u001b[0;34m+\u001b[0m\u001b[0;34m(\u001b[0m\u001b[0mi\u001b[0m\u001b[0;34m+\u001b[0m\u001b[0;36m1\u001b[0m\u001b[0;34m)\u001b[0m\u001b[0;34m)\u001b[0m\u001b[0;34m)\u001b[0m\u001b[0;34m\u001b[0m\u001b[0;34m\u001b[0m\u001b[0m\n\u001b[0m\u001b[1;32m     17\u001b[0m \u001b[0;34m\u001b[0m\u001b[0m\n\u001b[1;32m     18\u001b[0m \u001b[0;32mfor\u001b[0m \u001b[0mi\u001b[0m \u001b[0;32min\u001b[0m \u001b[0mrange\u001b[0m\u001b[0;34m(\u001b[0m\u001b[0mn\u001b[0m\u001b[0;34m)\u001b[0m\u001b[0;34m:\u001b[0m\u001b[0;34m\u001b[0m\u001b[0;34m\u001b[0m\u001b[0m\n",
      "\u001b[0;31mTypeError\u001b[0m: must be str, not int"
     ]
    }
   ],
   "source": [
    "\n",
    "a = [0 for _ in range(10)]\n",
    "b = [0 for _ in range(10)]\n",
    "x = [0 for _ in range(10)]\n",
    "waiting =  [0 for _ in range(10)]\n",
    "turnaround =[0 for _ in range(10)]\n",
    "completion =[0 for _ in range(10)]\n",
    "i=0\n",
    "j = 0\n",
    "smallest = 0\n",
    "count = 0\n",
    "time = 0\n",
    "n = int(input(\"Enter the number of Processes : \"))\n",
    "\n",
    "for i in range(n):\n",
    "    a[i] = input(\"\\nEnter arrival time of process \"+(i+1))\n",
    "    \n",
    "for i in range(n):\n",
    "    b[i] = input(\"\\nEnter burst time of process\"+(i+1))\n",
    "for i in range(n):\n",
    "    x[i] = b[i]\n",
    "    \n",
    "b[9] = 9999;\n",
    "\n",
    "while(count != n):\n",
    "    time = 0\n",
    "    smallest = 9\n",
    "    for i in range(n):\n",
    "        if a[i] < time or a[i]==time and b[i]<b[smallest] and b[i] >0:\n",
    "            smallest = i\n",
    "        b[smallest]-=1\n",
    "        if(b[smallest] == 0):\n",
    "            count+=1\n",
    "            end = time+1\n",
    "            completion[smallest] = end\n",
    "            waiting[smallest] = end -a[smallest] - x[smallest]\n",
    "            turnaround[smallest] = end - a[smallest]\n",
    "    time+=1\n",
    "print(\"pid \\t burst \\t \\t arrival \\t waiting \\tturnaround \\tcompletion\")\n",
    "for i in range(n):\n",
    "    print(x[i]+\" , \"+a[i]+\" , \"+waiting[i]+\" , \"+turnaround[i]+\" , \"+completion[i])\n",
    "    avg = avg+waiting[i]\n",
    "    tt = tt + turnaround[i]\n",
    "print(\"\\n\\nAverage waiting time =\"+avg/n)\n",
    "print(\"\\nAverage Turnaround time = \"+ tt/n)\n",
    "\n",
    "        "
   ]
  },
  {
   "cell_type": "code",
   "execution_count": null,
   "metadata": {},
   "outputs": [],
   "source": []
  }
 ],
 "metadata": {
  "kernelspec": {
   "display_name": "Python 3",
   "language": "python",
   "name": "python3"
  },
  "language_info": {
   "codemirror_mode": {
    "name": "ipython",
    "version": 3
   },
   "file_extension": ".py",
   "mimetype": "text/x-python",
   "name": "python",
   "nbconvert_exporter": "python",
   "pygments_lexer": "ipython3",
   "version": "3.6.8"
  }
 },
 "nbformat": 4,
 "nbformat_minor": 2
}
